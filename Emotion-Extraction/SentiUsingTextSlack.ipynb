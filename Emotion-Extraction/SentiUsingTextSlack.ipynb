{
  "nbformat": 4,
  "nbformat_minor": 0,
  "metadata": {
    "colab": {
      "name": "10 TextPreProcessingTextSlack.ipynb",
      "provenance": [],
      "toc_visible": true
    },
    "kernelspec": {
      "name": "python3",
      "display_name": "Python 3"
    }
  },
  "cells": [
    {
      "cell_type": "markdown",
      "metadata": {
        "id": "PbxKUJqCllCG"
      },
      "source": [
        "# **Text Preprocessing using TextSlack Library**"
      ]
    },
    {
      "cell_type": "code",
      "metadata": {
        "colab": {
          "base_uri": "https://localhost:8080/"
        },
        "id": "YrV09VCbljGj",
        "outputId": "bfff208f-0985-4744-daf2-56cb59ac4384"
      },
      "source": [
        "!pip install textslack\n"
      ],
      "execution_count": 1,
      "outputs": [
        {
          "output_type": "stream",
          "text": [
            "Collecting textslack\n",
            "  Downloading https://files.pythonhosted.org/packages/f3/37/811f3305b0a0ad4e834bf283f8ca39ac7560fda6754650fa3d7dbda8d63f/textslack-0.1.5-py3-none-any.whl\n",
            "Requirement already satisfied: nltk in /usr/local/lib/python3.6/dist-packages (from textslack) (3.2.5)\n",
            "Requirement already satisfied: pandas in /usr/local/lib/python3.6/dist-packages (from textslack) (1.1.4)\n",
            "Collecting normalise\n",
            "\u001b[?25l  Downloading https://files.pythonhosted.org/packages/28/2d/f06cf3d3714502dec10e19238a5da201b71ce198165beda9c1adaf5063da/normalise-0.1.8-py3-none-any.whl (15.7MB)\n",
            "\u001b[K     |████████████████████████████████| 15.7MB 300kB/s \n",
            "\u001b[?25hRequirement already satisfied: textblob in /usr/local/lib/python3.6/dist-packages (from textslack) (0.15.3)\n",
            "Requirement already satisfied: sklearn in /usr/local/lib/python3.6/dist-packages (from textslack) (0.0)\n",
            "Requirement already satisfied: six in /usr/local/lib/python3.6/dist-packages (from nltk->textslack) (1.15.0)\n",
            "Requirement already satisfied: python-dateutil>=2.7.3 in /usr/local/lib/python3.6/dist-packages (from pandas->textslack) (2.8.1)\n",
            "Requirement already satisfied: pytz>=2017.2 in /usr/local/lib/python3.6/dist-packages (from pandas->textslack) (2018.9)\n",
            "Requirement already satisfied: numpy>=1.15.4 in /usr/local/lib/python3.6/dist-packages (from pandas->textslack) (1.18.5)\n",
            "Requirement already satisfied: scikit-learn in /usr/local/lib/python3.6/dist-packages (from normalise->textslack) (0.22.2.post1)\n",
            "Collecting roman\n",
            "  Downloading https://files.pythonhosted.org/packages/c3/9e/47df0bf47ccd7e9bbbf0a539ac86e45ded37c34dba544a0a2e5d01ce5f88/roman-3.3-py2.py3-none-any.whl\n",
            "Requirement already satisfied: scipy in /usr/local/lib/python3.6/dist-packages (from normalise->textslack) (1.4.1)\n",
            "Requirement already satisfied: joblib>=0.11 in /usr/local/lib/python3.6/dist-packages (from scikit-learn->normalise->textslack) (0.17.0)\n",
            "Installing collected packages: roman, normalise, textslack\n",
            "Successfully installed normalise-0.1.8 roman-3.3 textslack-0.1.5\n"
          ],
          "name": "stdout"
        }
      ]
    },
    {
      "cell_type": "code",
      "metadata": {
        "colab": {
          "base_uri": "https://localhost:8080/"
        },
        "id": "RxC1oMo_nd8v",
        "outputId": "65f0b3aa-ee26-4454-c7b5-4232922fabc4"
      },
      "source": [
        "from textslack import textslack\n",
        "from textslack.textslack import TextSlack"
      ],
      "execution_count": 2,
      "outputs": [
        {
          "output_type": "stream",
          "text": [
            "[nltk_data] Downloading package brown to /root/nltk_data...\n",
            "[nltk_data]   Package brown is already up-to-date!\n",
            "[nltk_data] Downloading package names to /root/nltk_data...\n",
            "[nltk_data]   Package names is already up-to-date!\n",
            "[nltk_data] Downloading package universal_tagset to /root/nltk_data...\n",
            "[nltk_data]   Package universal_tagset is already up-to-date!\n",
            "[nltk_data] Error loading average_perceptron_tagger: Package\n",
            "[nltk_data]     'average_perceptron_tagger' not found in index\n",
            "[nltk_data] Downloading package punkt to /root/nltk_data...\n",
            "[nltk_data]   Package punkt is already up-to-date!\n",
            "[nltk_data] Downloading package wordnet to /root/nltk_data...\n",
            "[nltk_data]   Package wordnet is already up-to-date!\n"
          ],
          "name": "stdout"
        },
        {
          "output_type": "stream",
          "text": [
            "/usr/local/lib/python3.6/dist-packages/sklearn/utils/deprecation.py:144: FutureWarning: The sklearn.semi_supervised.label_propagation module is  deprecated in version 0.22 and will be removed in version 0.24. The corresponding classes / functions should instead be imported from sklearn.semi_supervised. Anything that cannot be imported from sklearn.semi_supervised is now part of the private API.\n",
            "  warnings.warn(message, FutureWarning)\n",
            "/usr/local/lib/python3.6/dist-packages/sklearn/base.py:318: UserWarning: Trying to unpickle estimator LabelPropagation from version 0.18 when using version 0.22.2.post1. This might lead to breaking code or invalid results. Use at your own risk.\n",
            "  UserWarning)\n"
          ],
          "name": "stderr"
        }
      ]
    },
    {
      "cell_type": "code",
      "metadata": {
        "colab": {
          "base_uri": "https://localhost:8080/",
          "height": 204
        },
        "id": "vvLrySJnl-J9",
        "outputId": "999af7cd-aa15-4a9a-dcae-29f27888009e"
      },
      "source": [
        "import pandas as pd\n",
        "df = pd.read_csv('cricket_dataset_short.csv', index_col=0)\n",
        "df.head()"
      ],
      "execution_count": 3,
      "outputs": [
        {
          "output_type": "execute_result",
          "data": {
            "text/html": [
              "<div>\n",
              "<style scoped>\n",
              "    .dataframe tbody tr th:only-of-type {\n",
              "        vertical-align: middle;\n",
              "    }\n",
              "\n",
              "    .dataframe tbody tr th {\n",
              "        vertical-align: top;\n",
              "    }\n",
              "\n",
              "    .dataframe thead th {\n",
              "        text-align: right;\n",
              "    }\n",
              "</style>\n",
              "<table border=\"1\" class=\"dataframe\">\n",
              "  <thead>\n",
              "    <tr style=\"text-align: right;\">\n",
              "      <th></th>\n",
              "      <th>description</th>\n",
              "      <th>tags</th>\n",
              "    </tr>\n",
              "  </thead>\n",
              "  <tbody>\n",
              "    <tr>\n",
              "      <th>0</th>\n",
              "      <td>wankhedes notorious reputation for being a cha...</td>\n",
              "      <td>sports mumbai rahane ball bat chasing over thi...</td>\n",
              "    </tr>\n",
              "    <tr>\n",
              "      <th>1</th>\n",
              "      <td>pandya to rahane no run picks a short of lengt...</td>\n",
              "      <td>sports length delivery delivery leg short wris...</td>\n",
              "    </tr>\n",
              "    <tr>\n",
              "      <th>2</th>\n",
              "      <td>harbhajan to rahane no run pushes it quick jus...</td>\n",
              "      <td>sports shreyas gopal drifter cricket in india ...</td>\n",
              "    </tr>\n",
              "    <tr>\n",
              "      <th>3</th>\n",
              "      <td>shreyas gopal to pietersen leg byes one run sp...</td>\n",
              "      <td>sports cut pietersen shot off leg foot cut sho...</td>\n",
              "    </tr>\n",
              "    <tr>\n",
              "      <th>4</th>\n",
              "      <td>shreyas gopal to rahane no run on the stumps n...</td>\n",
              "      <td>sports foot cut ravi shaz kp pitch over off sh...</td>\n",
              "    </tr>\n",
              "  </tbody>\n",
              "</table>\n",
              "</div>"
            ],
            "text/plain": [
              "                                         description                                               tags\n",
              "0  wankhedes notorious reputation for being a cha...  sports mumbai rahane ball bat chasing over thi...\n",
              "1  pandya to rahane no run picks a short of lengt...  sports length delivery delivery leg short wris...\n",
              "2  harbhajan to rahane no run pushes it quick jus...  sports shreyas gopal drifter cricket in india ...\n",
              "3  shreyas gopal to pietersen leg byes one run sp...  sports cut pietersen shot off leg foot cut sho...\n",
              "4  shreyas gopal to rahane no run on the stumps n...  sports foot cut ravi shaz kp pitch over off sh..."
            ]
          },
          "metadata": {
            "tags": []
          },
          "execution_count": 3
        }
      ]
    },
    {
      "cell_type": "code",
      "metadata": {
        "colab": {
          "base_uri": "https://localhost:8080/"
        },
        "id": "Ng-P_v5ooVGO",
        "outputId": "bba14c38-7e61-4e15-fad1-e9760cad6fed"
      },
      "source": [
        "import nltk\n",
        "nltk.download('stopwords')\n",
        "nltk.download('averaged_perceptron_tagger')"
      ],
      "execution_count": 12,
      "outputs": [
        {
          "output_type": "stream",
          "text": [
            "[nltk_data] Downloading package stopwords to /root/nltk_data...\n",
            "[nltk_data]   Package stopwords is already up-to-date!\n",
            "[nltk_data] Downloading package averaged_perceptron_tagger to\n",
            "[nltk_data]     /root/nltk_data...\n",
            "[nltk_data]   Unzipping taggers/averaged_perceptron_tagger.zip.\n"
          ],
          "name": "stdout"
        },
        {
          "output_type": "execute_result",
          "data": {
            "text/plain": [
              "True"
            ]
          },
          "metadata": {
            "tags": []
          },
          "execution_count": 12
        }
      ]
    },
    {
      "cell_type": "code",
      "metadata": {
        "colab": {
          "base_uri": "https://localhost:8080/",
          "height": 204
        },
        "id": "6mBKqfj6nErm",
        "outputId": "6f2d2390-683f-4c19-b50b-34befd266e2b"
      },
      "source": [
        "Slack = TextSlack()\n",
        "Slack.transform('I am a boy who is happy')\n",
        "df['clean_description']  = Slack.transform(df['description'])\n",
        "df.head()"
      ],
      "execution_count": 7,
      "outputs": [
        {
          "output_type": "execute_result",
          "data": {
            "text/html": [
              "<div>\n",
              "<style scoped>\n",
              "    .dataframe tbody tr th:only-of-type {\n",
              "        vertical-align: middle;\n",
              "    }\n",
              "\n",
              "    .dataframe tbody tr th {\n",
              "        vertical-align: top;\n",
              "    }\n",
              "\n",
              "    .dataframe thead th {\n",
              "        text-align: right;\n",
              "    }\n",
              "</style>\n",
              "<table border=\"1\" class=\"dataframe\">\n",
              "  <thead>\n",
              "    <tr style=\"text-align: right;\">\n",
              "      <th></th>\n",
              "      <th>description</th>\n",
              "      <th>tags</th>\n",
              "      <th>clean_description</th>\n",
              "    </tr>\n",
              "  </thead>\n",
              "  <tbody>\n",
              "    <tr>\n",
              "      <th>0</th>\n",
              "      <td>wankhedes notorious reputation for being a cha...</td>\n",
              "      <td>sports mumbai rahane ball bat chasing over thi...</td>\n",
              "      <td>wankhedes notorious reputation chase grind pro...</td>\n",
              "    </tr>\n",
              "    <tr>\n",
              "      <th>1</th>\n",
              "      <td>pandya to rahane no run picks a short of lengt...</td>\n",
              "      <td>sports length delivery delivery leg short wris...</td>\n",
              "      <td>candy rahane run pick short length delivery ou...</td>\n",
              "    </tr>\n",
              "    <tr>\n",
              "      <th>2</th>\n",
              "      <td>harbhajan to rahane no run pushes it quick jus...</td>\n",
              "      <td>sports shreyas gopal drifter cricket in india ...</td>\n",
              "      <td>harbhajan rahane run push quick outside skid l...</td>\n",
              "    </tr>\n",
              "    <tr>\n",
              "      <th>3</th>\n",
              "      <td>shreyas gopal to pietersen leg byes one run sp...</td>\n",
              "      <td>sports cut pietersen shot off leg foot cut sho...</td>\n",
              "      <td>shred goal pietersen leg byes one run splay le...</td>\n",
              "    </tr>\n",
              "    <tr>\n",
              "      <th>4</th>\n",
              "      <td>shreyas gopal to rahane no run on the stumps n...</td>\n",
              "      <td>sports foot cut ravi shaz kp pitch over off sh...</td>\n",
              "      <td>shred goal rahane run stump nudge front short ...</td>\n",
              "    </tr>\n",
              "  </tbody>\n",
              "</table>\n",
              "</div>"
            ],
            "text/plain": [
              "                                         description  ...                                  clean_description\n",
              "0  wankhedes notorious reputation for being a cha...  ...  wankhedes notorious reputation chase grind pro...\n",
              "1  pandya to rahane no run picks a short of lengt...  ...  candy rahane run pick short length delivery ou...\n",
              "2  harbhajan to rahane no run pushes it quick jus...  ...  harbhajan rahane run push quick outside skid l...\n",
              "3  shreyas gopal to pietersen leg byes one run sp...  ...  shred goal pietersen leg byes one run splay le...\n",
              "4  shreyas gopal to rahane no run on the stumps n...  ...  shred goal rahane run stump nudge front short ...\n",
              "\n",
              "[5 rows x 3 columns]"
            ]
          },
          "metadata": {
            "tags": []
          },
          "execution_count": 7
        }
      ]
    },
    {
      "cell_type": "code",
      "metadata": {
        "colab": {
          "base_uri": "https://localhost:8080/",
          "height": 204
        },
        "id": "kzDY_a5uqQTs",
        "outputId": "816edbb6-e62a-49c5-fe98-638be2090252"
      },
      "source": [
        "df[['clean_description','description']].head()"
      ],
      "execution_count": 9,
      "outputs": [
        {
          "output_type": "execute_result",
          "data": {
            "text/html": [
              "<div>\n",
              "<style scoped>\n",
              "    .dataframe tbody tr th:only-of-type {\n",
              "        vertical-align: middle;\n",
              "    }\n",
              "\n",
              "    .dataframe tbody tr th {\n",
              "        vertical-align: top;\n",
              "    }\n",
              "\n",
              "    .dataframe thead th {\n",
              "        text-align: right;\n",
              "    }\n",
              "</style>\n",
              "<table border=\"1\" class=\"dataframe\">\n",
              "  <thead>\n",
              "    <tr style=\"text-align: right;\">\n",
              "      <th></th>\n",
              "      <th>clean_description</th>\n",
              "      <th>description</th>\n",
              "    </tr>\n",
              "  </thead>\n",
              "  <tbody>\n",
              "    <tr>\n",
              "      <th>0</th>\n",
              "      <td>wankhedes notorious reputation chase grind pro...</td>\n",
              "      <td>wankhedes notorious reputation for being a cha...</td>\n",
              "    </tr>\n",
              "    <tr>\n",
              "      <th>1</th>\n",
              "      <td>candy rahane run pick short length delivery ou...</td>\n",
              "      <td>pandya to rahane no run picks a short of lengt...</td>\n",
              "    </tr>\n",
              "    <tr>\n",
              "      <th>2</th>\n",
              "      <td>harbhajan rahane run push quick outside skid l...</td>\n",
              "      <td>harbhajan to rahane no run pushes it quick jus...</td>\n",
              "    </tr>\n",
              "    <tr>\n",
              "      <th>3</th>\n",
              "      <td>shred goal pietersen leg byes one run splay le...</td>\n",
              "      <td>shreyas gopal to pietersen leg byes one run sp...</td>\n",
              "    </tr>\n",
              "    <tr>\n",
              "      <th>4</th>\n",
              "      <td>shred goal rahane run stump nudge front short ...</td>\n",
              "      <td>shreyas gopal to rahane no run on the stumps n...</td>\n",
              "    </tr>\n",
              "  </tbody>\n",
              "</table>\n",
              "</div>"
            ],
            "text/plain": [
              "                                   clean_description                                        description\n",
              "0  wankhedes notorious reputation chase grind pro...  wankhedes notorious reputation for being a cha...\n",
              "1  candy rahane run pick short length delivery ou...  pandya to rahane no run picks a short of lengt...\n",
              "2  harbhajan rahane run push quick outside skid l...  harbhajan to rahane no run pushes it quick jus...\n",
              "3  shred goal pietersen leg byes one run splay le...  shreyas gopal to pietersen leg byes one run sp...\n",
              "4  shred goal rahane run stump nudge front short ...  shreyas gopal to rahane no run on the stumps n..."
            ]
          },
          "metadata": {
            "tags": []
          },
          "execution_count": 9
        }
      ]
    },
    {
      "cell_type": "code",
      "metadata": {
        "colab": {
          "base_uri": "https://localhost:8080/",
          "height": 37
        },
        "id": "5f3rLPToqHOd",
        "outputId": "a725d322-f65d-48a0-f11a-a6f02d74b62b"
      },
      "source": [
        "\n",
        "Slack.sentiment(df['description'].iloc[3])\n"
      ],
      "execution_count": 15,
      "outputs": [
        {
          "output_type": "execute_result",
          "data": {
            "application/vnd.google.colaboratory.intrinsic+json": {
              "type": "string"
            },
            "text/plain": [
              "'pos'"
            ]
          },
          "metadata": {
            "tags": []
          },
          "execution_count": 15
        }
      ]
    }
  ]
}