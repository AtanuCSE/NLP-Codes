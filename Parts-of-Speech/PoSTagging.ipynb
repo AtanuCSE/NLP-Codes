{
  "nbformat": 4,
  "nbformat_minor": 0,
  "metadata": {
    "colab": {
      "name": "06 PoSTagging.ipynb",
      "provenance": []
    },
    "kernelspec": {
      "name": "python3",
      "display_name": "Python 3"
    }
  },
  "cells": [
    {
      "cell_type": "markdown",
      "metadata": {
        "id": "xUJkDvQiB1vg",
        "colab_type": "text"
      },
      "source": [
        "# **Parts-of-Speech (PoS) Tagging**"
      ]
    },
    {
      "cell_type": "code",
      "metadata": {
        "id": "hM8UA1B7CInL",
        "colab_type": "code",
        "colab": {
          "base_uri": "https://localhost:8080/",
          "height": 377
        },
        "outputId": "d9a2501a-7045-4ff6-a195-a3e4aff411f5"
      },
      "source": [
        "!pip install spacy\n",
        "import spacy"
      ],
      "execution_count": null,
      "outputs": [
        {
          "output_type": "stream",
          "text": [
            "Requirement already satisfied: spacy in /usr/local/lib/python3.6/dist-packages (2.2.4)\n",
            "Requirement already satisfied: murmurhash<1.1.0,>=0.28.0 in /usr/local/lib/python3.6/dist-packages (from spacy) (1.0.2)\n",
            "Requirement already satisfied: wasabi<1.1.0,>=0.4.0 in /usr/local/lib/python3.6/dist-packages (from spacy) (0.7.1)\n",
            "Requirement already satisfied: tqdm<5.0.0,>=4.38.0 in /usr/local/lib/python3.6/dist-packages (from spacy) (4.41.1)\n",
            "Requirement already satisfied: blis<0.5.0,>=0.4.0 in /usr/local/lib/python3.6/dist-packages (from spacy) (0.4.1)\n",
            "Requirement already satisfied: plac<1.2.0,>=0.9.6 in /usr/local/lib/python3.6/dist-packages (from spacy) (1.1.3)\n",
            "Requirement already satisfied: preshed<3.1.0,>=3.0.2 in /usr/local/lib/python3.6/dist-packages (from spacy) (3.0.2)\n",
            "Requirement already satisfied: numpy>=1.15.0 in /usr/local/lib/python3.6/dist-packages (from spacy) (1.18.5)\n",
            "Requirement already satisfied: setuptools in /usr/local/lib/python3.6/dist-packages (from spacy) (49.1.0)\n",
            "Requirement already satisfied: thinc==7.4.0 in /usr/local/lib/python3.6/dist-packages (from spacy) (7.4.0)\n",
            "Requirement already satisfied: requests<3.0.0,>=2.13.0 in /usr/local/lib/python3.6/dist-packages (from spacy) (2.23.0)\n",
            "Requirement already satisfied: srsly<1.1.0,>=1.0.2 in /usr/local/lib/python3.6/dist-packages (from spacy) (1.0.2)\n",
            "Requirement already satisfied: catalogue<1.1.0,>=0.0.7 in /usr/local/lib/python3.6/dist-packages (from spacy) (1.0.0)\n",
            "Requirement already satisfied: cymem<2.1.0,>=2.0.2 in /usr/local/lib/python3.6/dist-packages (from spacy) (2.0.3)\n",
            "Requirement already satisfied: chardet<4,>=3.0.2 in /usr/local/lib/python3.6/dist-packages (from requests<3.0.0,>=2.13.0->spacy) (3.0.4)\n",
            "Requirement already satisfied: certifi>=2017.4.17 in /usr/local/lib/python3.6/dist-packages (from requests<3.0.0,>=2.13.0->spacy) (2020.6.20)\n",
            "Requirement already satisfied: urllib3!=1.25.0,!=1.25.1,<1.26,>=1.21.1 in /usr/local/lib/python3.6/dist-packages (from requests<3.0.0,>=2.13.0->spacy) (1.24.3)\n",
            "Requirement already satisfied: idna<3,>=2.5 in /usr/local/lib/python3.6/dist-packages (from requests<3.0.0,>=2.13.0->spacy) (2.10)\n",
            "Requirement already satisfied: importlib-metadata>=0.20; python_version < \"3.8\" in /usr/local/lib/python3.6/dist-packages (from catalogue<1.1.0,>=0.0.7->spacy) (1.7.0)\n",
            "Requirement already satisfied: zipp>=0.5 in /usr/local/lib/python3.6/dist-packages (from importlib-metadata>=0.20; python_version < \"3.8\"->catalogue<1.1.0,>=0.0.7->spacy) (3.1.0)\n"
          ],
          "name": "stdout"
        }
      ]
    },
    {
      "cell_type": "code",
      "metadata": {
        "id": "gI-HSzQBB0wN",
        "colab_type": "code",
        "colab": {
          "base_uri": "https://localhost:8080/",
          "height": 54
        },
        "outputId": "b8f88389-801f-4b35-c3e7-b8068145bc49"
      },
      "source": [
        "nlp = spacy.load(\"en\")\n",
        "doc = nlp(\"I have a red pen although I wanted a black one\")\n",
        "print([(token.text, token.tag_) for token in doc])"
      ],
      "execution_count": null,
      "outputs": [
        {
          "output_type": "stream",
          "text": [
            "[('I', 'PRP'), ('have', 'VBP'), ('a', 'DT'), ('red', 'JJ'), ('pen', 'NN'), ('although', 'IN'), ('I', 'PRP'), ('wanted', 'VBD'), ('a', 'DT'), ('black', 'JJ'), ('one', 'NN')]\n"
          ],
          "name": "stdout"
        }
      ]
    },
    {
      "cell_type": "markdown",
      "metadata": {
        "id": "m6iEExNZCdQW",
        "colab_type": "text"
      },
      "source": [
        "[Meaning of PoS tags with example](https://medium.com/towards-artificial-intelligence/natural-language-processing-nlp-with-python-tutorial-for-beginners-1f54e610a1a0)\n",
        "\n",
        "1. CC: Coordinating Conjunction\n",
        "2. CD: Cardinal Digit\n",
        "3. DT: Determiner\n",
        "4. EX: Existential There\n",
        "5. FW: Foreign Word\n",
        "6. IN: Preposition / Subordinating Conjunction\n",
        "7. JJ: Adjective\n",
        "8. JJR: Adjective, Comparative\n",
        "9. JJS: Adjective, Superlative\n",
        "10. LS: List Marker\n",
        "11. MD: Modal\n",
        "12. NN: Noun, Singular\n",
        "13. NNS: Noun, Plural\n",
        "14. NNP: Proper Noun, Singular\n",
        "15. NNPS: Proper Noun, Plural\n",
        "16. PDT: Predeterminer\n",
        "17. POS: Possessive Endings\n",
        "18. PRP: Personal Pronoun\n",
        "19. PRP\\$: Possessive Pronoun\n",
        "20. RB: Adverb\n",
        "21. RBR: Adverb, Comparative\n",
        "22. RBS: Adverb, Superlative\n",
        "23. RP: Particle\n",
        "24. TO: To\n",
        "25. UH: Interjection\n",
        "26. VB: Verb, Base Form\n",
        "27. VBD: Verb, Past Tense\n",
        "28. VBG: Verb, Present Participle\n",
        "29. VBN: Verb, Past Participle\n",
        "30. VBP: Verb, Present Tense, Not Third Person Singular\n",
        "31. VBZ: Verb, Present Tense, Third Person Singular\n",
        "32. WDT: Wh — Determiner\n",
        "33. WP: Wh — Pronoun\n",
        "34. WP$ : Possessive Wh — Pronoun\n",
        "35. WRB: Wh — Adverb\n"
      ]
    }
  ]
}
