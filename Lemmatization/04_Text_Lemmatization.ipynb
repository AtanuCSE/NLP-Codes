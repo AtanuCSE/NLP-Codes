{
  "nbformat": 4,
  "nbformat_minor": 0,
  "metadata": {
    "colab": {
      "name": "04 Text_Lemmatization.ipynb",
      "provenance": []
    },
    "kernelspec": {
      "name": "python3",
      "display_name": "Python 3"
    }
  },
  "cells": [
    {
      "cell_type": "markdown",
      "metadata": {
        "id": "Cdd072YOk5-j",
        "colab_type": "text"
      },
      "source": [
        "# **Lemmatization NLTK and GENSIM**\n",
        "\n",
        "---\n",
        "\n",
        "\n",
        "*   [NLTK](https://colab.research.google.com/drive/1xrl29HG6OdyNoXy8p_aEHDl0qKNtX2qI?authuser=1#scrollTo=n1llCOhUHJZE&line=1&uniqifier=1)\n",
        "*   [SpaCy](https://colab.research.google.com/drive/1xrl29HG6OdyNoXy8p_aEHDl0qKNtX2qI?authuser=1#scrollTo=1hC60Km1CdsS&line=1&uniqifier=1)\n",
        "*   [GENSIM](https://colab.research.google.com/drive/1xrl29HG6OdyNoXy8p_aEHDl0qKNtX2qI?authuser=1#scrollTo=fYM3BsunEi_3&line=2&uniqifier=1)\n",
        "\n",
        "\n",
        "---\n",
        "---\n"
      ]
    },
    {
      "cell_type": "markdown",
      "metadata": {
        "id": "n1llCOhUHJZE",
        "colab_type": "text"
      },
      "source": [
        "# **NLTK Works best with separate Words not sentence**"
      ]
    },
    {
      "cell_type": "code",
      "metadata": {
        "id": "6huopB5okeHx",
        "colab_type": "code",
        "colab": {
          "base_uri": "https://localhost:8080/",
          "height": 85
        },
        "outputId": "03a5b1b3-de89-464b-95bc-8f15286b5827"
      },
      "source": [
        "\n",
        "import nltk\n",
        "nltk.download('punkt')\n",
        "nltk.download('wordnet')\n",
        "from nltk.stem import WordNetLemmatizer\n",
        "wordnet_lemmatizer = WordNetLemmatizer()\n",
        "\n",
        "sentence = \" Humans (Homo sapiens) are highly intelligent primates that have become the dominant species on Earth. They are the only extant members of the subtribe Hominina and together with chimpanzees, gorillas, and orangutans,  they are part of the family Hominidae (the great apes, or hominids). Humans are terrestrial animals,  characterized by their erect posture and bipedal locomotion; high manual dexterity and heavy tool use compared to  other animals; open-ended and complex language use compared to other animal communications;  larger, more complex brains than other primates; and highly advanced and organized societies. \"\n"
      ],
      "execution_count": 11,
      "outputs": [
        {
          "output_type": "stream",
          "text": [
            "[nltk_data] Downloading package punkt to /root/nltk_data...\n",
            "[nltk_data]   Package punkt is already up-to-date!\n",
            "[nltk_data] Downloading package wordnet to /root/nltk_data...\n",
            "[nltk_data]   Unzipping corpora/wordnet.zip.\n"
          ],
          "name": "stdout"
        }
      ]
    },
    {
      "cell_type": "code",
      "metadata": {
        "id": "voD5Yn07lcwv",
        "colab_type": "code",
        "colab": {
          "base_uri": "https://localhost:8080/",
          "height": 357
        },
        "outputId": "cc64c1c9-9aa5-4102-b89c-1b1a0b59070d"
      },
      "source": [
        "\n",
        "punctuations=\"?:!.,;()\"\n",
        "sentence_words = nltk.word_tokenize(sentence)\n",
        "for word in sentence_words:\n",
        "    if word in punctuations:\n",
        "        sentence_words.remove(word)\n",
        "\n",
        "sentence_words[:20]\n"
      ],
      "execution_count": 12,
      "outputs": [
        {
          "output_type": "execute_result",
          "data": {
            "text/plain": [
              "['Humans',\n",
              " 'Homo',\n",
              " 'sapiens',\n",
              " 'are',\n",
              " 'highly',\n",
              " 'intelligent',\n",
              " 'primates',\n",
              " 'that',\n",
              " 'have',\n",
              " 'become',\n",
              " 'the',\n",
              " 'dominant',\n",
              " 'species',\n",
              " 'on',\n",
              " 'Earth',\n",
              " 'They',\n",
              " 'are',\n",
              " 'the',\n",
              " 'only',\n",
              " 'extant']"
            ]
          },
          "metadata": {
            "tags": []
          },
          "execution_count": 12
        }
      ]
    },
    {
      "cell_type": "markdown",
      "metadata": {
        "id": "jGGNB6-DoWPm",
        "colab_type": "text"
      },
      "source": [
        "# **Splitting into separate words are effective for NLTK**"
      ]
    },
    {
      "cell_type": "code",
      "metadata": {
        "id": "X0Z04LVZleNx",
        "colab_type": "code",
        "colab": {}
      },
      "source": [
        "print(\"{0:20}{1:20}\".format(\"Word\",\"Lemma\"))\n",
        "for word in sentence_words:\n",
        "    print (\"{0:20}{1:20}\".format(word,wordnet_lemmatizer.lemmatize(word)))"
      ],
      "execution_count": null,
      "outputs": []
    },
    {
      "cell_type": "markdown",
      "metadata": {
        "id": "tGWoUHV9D_6x",
        "colab_type": "text"
      },
      "source": [
        "Another way"
      ]
    },
    {
      "cell_type": "code",
      "metadata": {
        "id": "PtsB9Q_9EDJo",
        "colab_type": "code",
        "colab": {
          "base_uri": "https://localhost:8080/",
          "height": 54
        },
        "outputId": "e7786945-261c-4513-9cb2-5c9cf0e7882c"
      },
      "source": [
        "result = \" \".join([wordnet_lemmatizer.lemmatize(wd) for wd in sentence.split()])\n",
        "print(result)"
      ],
      "execution_count": 27,
      "outputs": [
        {
          "output_type": "stream",
          "text": [
            "Humans (Homo sapiens) are highly intelligent primate that have become the dominant specie on Earth. They are the only extant member of the subtribe Hominina and together with chimpanzees, gorillas, and orangutans, they are part of the family Hominidae (the great apes, or hominids). Humans are terrestrial animals, characterized by their erect posture and bipedal locomotion; high manual dexterity and heavy tool use compared to other animals; open-ended and complex language use compared to other animal communications; larger, more complex brain than other primates; and highly advanced and organized societies.\n"
          ],
          "name": "stdout"
        }
      ]
    },
    {
      "cell_type": "markdown",
      "metadata": {
        "id": "_Ht4L9AgodJu",
        "colab_type": "text"
      },
      "source": [
        "# **Sentence lemma in less efficient in case of NLTK**"
      ]
    },
    {
      "cell_type": "code",
      "metadata": {
        "id": "OIcqvPE7osJ1",
        "colab_type": "code",
        "colab": {
          "base_uri": "https://localhost:8080/",
          "height": 54
        },
        "outputId": "09ed9906-8cb3-439e-f99d-8aece3a8f6ac"
      },
      "source": [
        "lemma = wordnet_lemmatizer.lemmatize(sentence)\n",
        "print(lemma[0:200])"
      ],
      "execution_count": 17,
      "outputs": [
        {
          "output_type": "stream",
          "text": [
            " Humans (Homo sapiens) are highly intelligent primates that have become the dominant species on Earth. They are the only extant members of the subtribe Hominina and together with chimpanzees, gorillas\n"
          ],
          "name": "stdout"
        }
      ]
    },
    {
      "cell_type": "markdown",
      "metadata": {
        "id": "mu_7NPHa7ehy",
        "colab_type": "text"
      },
      "source": [
        "See! primates remained primates. Should've become primate."
      ]
    },
    {
      "cell_type": "markdown",
      "metadata": {
        "id": "1hC60Km1CdsS",
        "colab_type": "text"
      },
      "source": [
        "# **SpaCy lemmatizer is better than NLTK. It can. make \"Good\" from \"Best\"**"
      ]
    },
    {
      "cell_type": "code",
      "metadata": {
        "id": "Rm7Nk545Co68",
        "colab_type": "code",
        "colab": {
          "base_uri": "https://localhost:8080/",
          "height": 377
        },
        "outputId": "e16b4272-b1fd-4cf1-ccdd-500a844e616d"
      },
      "source": [
        "!pip install spacy"
      ],
      "execution_count": 19,
      "outputs": [
        {
          "output_type": "stream",
          "text": [
            "Requirement already satisfied: spacy in /usr/local/lib/python3.6/dist-packages (2.2.4)\n",
            "Requirement already satisfied: blis<0.5.0,>=0.4.0 in /usr/local/lib/python3.6/dist-packages (from spacy) (0.4.1)\n",
            "Requirement already satisfied: numpy>=1.15.0 in /usr/local/lib/python3.6/dist-packages (from spacy) (1.18.5)\n",
            "Requirement already satisfied: wasabi<1.1.0,>=0.4.0 in /usr/local/lib/python3.6/dist-packages (from spacy) (0.7.1)\n",
            "Requirement already satisfied: srsly<1.1.0,>=1.0.2 in /usr/local/lib/python3.6/dist-packages (from spacy) (1.0.2)\n",
            "Requirement already satisfied: tqdm<5.0.0,>=4.38.0 in /usr/local/lib/python3.6/dist-packages (from spacy) (4.41.1)\n",
            "Requirement already satisfied: requests<3.0.0,>=2.13.0 in /usr/local/lib/python3.6/dist-packages (from spacy) (2.23.0)\n",
            "Requirement already satisfied: catalogue<1.1.0,>=0.0.7 in /usr/local/lib/python3.6/dist-packages (from spacy) (1.0.0)\n",
            "Requirement already satisfied: cymem<2.1.0,>=2.0.2 in /usr/local/lib/python3.6/dist-packages (from spacy) (2.0.3)\n",
            "Requirement already satisfied: setuptools in /usr/local/lib/python3.6/dist-packages (from spacy) (49.1.0)\n",
            "Requirement already satisfied: thinc==7.4.0 in /usr/local/lib/python3.6/dist-packages (from spacy) (7.4.0)\n",
            "Requirement already satisfied: plac<1.2.0,>=0.9.6 in /usr/local/lib/python3.6/dist-packages (from spacy) (1.1.3)\n",
            "Requirement already satisfied: preshed<3.1.0,>=3.0.2 in /usr/local/lib/python3.6/dist-packages (from spacy) (3.0.2)\n",
            "Requirement already satisfied: murmurhash<1.1.0,>=0.28.0 in /usr/local/lib/python3.6/dist-packages (from spacy) (1.0.2)\n",
            "Requirement already satisfied: chardet<4,>=3.0.2 in /usr/local/lib/python3.6/dist-packages (from requests<3.0.0,>=2.13.0->spacy) (3.0.4)\n",
            "Requirement already satisfied: idna<3,>=2.5 in /usr/local/lib/python3.6/dist-packages (from requests<3.0.0,>=2.13.0->spacy) (2.10)\n",
            "Requirement already satisfied: urllib3!=1.25.0,!=1.25.1,<1.26,>=1.21.1 in /usr/local/lib/python3.6/dist-packages (from requests<3.0.0,>=2.13.0->spacy) (1.24.3)\n",
            "Requirement already satisfied: certifi>=2017.4.17 in /usr/local/lib/python3.6/dist-packages (from requests<3.0.0,>=2.13.0->spacy) (2020.6.20)\n",
            "Requirement already satisfied: importlib-metadata>=0.20; python_version < \"3.8\" in /usr/local/lib/python3.6/dist-packages (from catalogue<1.1.0,>=0.0.7->spacy) (1.7.0)\n",
            "Requirement already satisfied: zipp>=0.5 in /usr/local/lib/python3.6/dist-packages (from importlib-metadata>=0.20; python_version < \"3.8\"->catalogue<1.1.0,>=0.0.7->spacy) (3.1.0)\n"
          ],
          "name": "stdout"
        }
      ]
    },
    {
      "cell_type": "code",
      "metadata": {
        "id": "Ew8L7KE2C5mr",
        "colab_type": "code",
        "colab": {}
      },
      "source": [
        "import spacy"
      ],
      "execution_count": 20,
      "outputs": []
    },
    {
      "cell_type": "code",
      "metadata": {
        "id": "KVm-ygbqC-9Y",
        "colab_type": "code",
        "colab": {}
      },
      "source": [
        "nlp = spacy.load('en', disable=['parser', 'ner'])"
      ],
      "execution_count": 22,
      "outputs": []
    },
    {
      "cell_type": "code",
      "metadata": {
        "id": "fSA3EFGgDEqG",
        "colab_type": "code",
        "colab": {}
      },
      "source": [
        "lemma = nlp(sentence)"
      ],
      "execution_count": 24,
      "outputs": []
    },
    {
      "cell_type": "code",
      "metadata": {
        "id": "VyfFK4XGDKJh",
        "colab_type": "code",
        "colab": {
          "base_uri": "https://localhost:8080/",
          "height": 71
        },
        "outputId": "83248dd5-4809-4fd1-facf-e0d74bf89ef4"
      },
      "source": [
        "result = \" \".join([token.lemma_ for token in lemma])\n",
        "print(sentence)\n",
        "print(result)"
      ],
      "execution_count": 26,
      "outputs": [
        {
          "output_type": "stream",
          "text": [
            " Humans (Homo sapiens) are highly intelligent primates that have become the dominant species on Earth. They are the only extant members of the subtribe Hominina and together with chimpanzees, gorillas, and orangutans,  they are part of the family Hominidae (the great apes, or hominids). Humans are terrestrial animals,  characterized by their erect posture and bipedal locomotion; high manual dexterity and heavy tool use compared to  other animals; open-ended and complex language use compared to other animal communications;  larger, more complex brains than other primates; and highly advanced and organized societies. \n",
            "  human ( homo sapiens ) be highly intelligent primate that have become the dominant specie on Earth . -PRON- be the only extant member of the subtribe Hominina and together with chimpanzee , gorilla , and orangutans ,   -PRON- be part of the family Hominidae ( the great ape , or hominid ) . human be terrestrial animal ,   characterize by -PRON- erect posture and bipedal locomotion ; high manual dexterity and heavy tool use compare to   other animal ; open - ended and complex language use compare to other animal communication ;   large , more complex brain than other primate ; and highly advanced and organized society .\n"
          ],
          "name": "stdout"
        }
      ]
    },
    {
      "cell_type": "markdown",
      "metadata": {
        "id": "fYM3BsunEi_3",
        "colab_type": "text"
      },
      "source": [
        "# **Gensim Lemmatization**\n",
        "allows only the ‘JJ’, ‘VB’, ‘NN’ and ‘RB’ tags."
      ]
    },
    {
      "cell_type": "code",
      "metadata": {
        "id": "dNoBXNh7EnmL",
        "colab_type": "code",
        "colab": {
          "base_uri": "https://localhost:8080/",
          "height": 326
        },
        "outputId": "79d62a53-e6c3-4d8d-f61b-6bcfb1e20797"
      },
      "source": [
        "!pip install gensim\n",
        "from gensim.utils import lemmatize\n"
      ],
      "execution_count": 32,
      "outputs": [
        {
          "output_type": "stream",
          "text": [
            "Requirement already satisfied: gensim in /usr/local/lib/python3.6/dist-packages (3.6.0)\n",
            "Requirement already satisfied: scipy>=0.18.1 in /usr/local/lib/python3.6/dist-packages (from gensim) (1.4.1)\n",
            "Requirement already satisfied: six>=1.5.0 in /usr/local/lib/python3.6/dist-packages (from gensim) (1.15.0)\n",
            "Requirement already satisfied: smart-open>=1.2.1 in /usr/local/lib/python3.6/dist-packages (from gensim) (2.1.0)\n",
            "Requirement already satisfied: numpy>=1.11.3 in /usr/local/lib/python3.6/dist-packages (from gensim) (1.18.5)\n",
            "Requirement already satisfied: boto in /usr/local/lib/python3.6/dist-packages (from smart-open>=1.2.1->gensim) (2.49.0)\n",
            "Requirement already satisfied: boto3 in /usr/local/lib/python3.6/dist-packages (from smart-open>=1.2.1->gensim) (1.14.24)\n",
            "Requirement already satisfied: requests in /usr/local/lib/python3.6/dist-packages (from smart-open>=1.2.1->gensim) (2.23.0)\n",
            "Requirement already satisfied: jmespath<1.0.0,>=0.7.1 in /usr/local/lib/python3.6/dist-packages (from boto3->smart-open>=1.2.1->gensim) (0.10.0)\n",
            "Requirement already satisfied: botocore<1.18.0,>=1.17.24 in /usr/local/lib/python3.6/dist-packages (from boto3->smart-open>=1.2.1->gensim) (1.17.24)\n",
            "Requirement already satisfied: s3transfer<0.4.0,>=0.3.0 in /usr/local/lib/python3.6/dist-packages (from boto3->smart-open>=1.2.1->gensim) (0.3.3)\n",
            "Requirement already satisfied: certifi>=2017.4.17 in /usr/local/lib/python3.6/dist-packages (from requests->smart-open>=1.2.1->gensim) (2020.6.20)\n",
            "Requirement already satisfied: chardet<4,>=3.0.2 in /usr/local/lib/python3.6/dist-packages (from requests->smart-open>=1.2.1->gensim) (3.0.4)\n",
            "Requirement already satisfied: urllib3!=1.25.0,!=1.25.1,<1.26,>=1.21.1 in /usr/local/lib/python3.6/dist-packages (from requests->smart-open>=1.2.1->gensim) (1.24.3)\n",
            "Requirement already satisfied: idna<3,>=2.5 in /usr/local/lib/python3.6/dist-packages (from requests->smart-open>=1.2.1->gensim) (2.10)\n",
            "Requirement already satisfied: docutils<0.16,>=0.10 in /usr/local/lib/python3.6/dist-packages (from botocore<1.18.0,>=1.17.24->boto3->smart-open>=1.2.1->gensim) (0.15.2)\n",
            "Requirement already satisfied: python-dateutil<3.0.0,>=2.1 in /usr/local/lib/python3.6/dist-packages (from botocore<1.18.0,>=1.17.24->boto3->smart-open>=1.2.1->gensim) (2.8.1)\n"
          ],
          "name": "stdout"
        }
      ]
    },
    {
      "cell_type": "code",
      "metadata": {
        "id": "OlzaMQdWFuO-",
        "colab_type": "code",
        "colab": {
          "base_uri": "https://localhost:8080/",
          "height": 1000
        },
        "outputId": "40f0d4e8-e4d6-42a9-f80d-ad48a2778484"
      },
      "source": [
        "!pip install git+git://github.com/pattern3/pattern.git"
      ],
      "execution_count": 33,
      "outputs": [
        {
          "output_type": "stream",
          "text": [
            "Collecting git+git://github.com/pattern3/pattern.git\n",
            "  Cloning git://github.com/pattern3/pattern.git to /tmp/pip-req-build-gglrehkm\n",
            "  Running command git clone -q git://github.com/pattern3/pattern.git /tmp/pip-req-build-gglrehkm\n",
            "Requirement already satisfied: beautifulsoup4 in /usr/local/lib/python3.6/dist-packages (from pattern==2.6) (4.6.3)\n",
            "Collecting cherrypy\n",
            "\u001b[?25l  Downloading https://files.pythonhosted.org/packages/a8/f9/e11f893dcabe6bc222a1442bf5e14f0322a2d363c92910ed41947078a35a/CherryPy-18.6.0-py2.py3-none-any.whl (419kB)\n",
            "\u001b[K     |████████████████████████████████| 419kB 2.6MB/s \n",
            "\u001b[?25hCollecting docx\n",
            "\u001b[?25l  Downloading https://files.pythonhosted.org/packages/4a/8e/5a01644697b03016de339ef444cfff28367f92984dc74eddaab1ed60eada/docx-0.2.4.tar.gz (54kB)\n",
            "\u001b[K     |████████████████████████████████| 61kB 6.2MB/s \n",
            "\u001b[?25hCollecting feedparser\n",
            "\u001b[?25l  Downloading https://files.pythonhosted.org/packages/91/d8/7d37fec71ff7c9dbcdd80d2b48bcdd86d6af502156fc93846fb0102cb2c4/feedparser-5.2.1.tar.bz2 (192kB)\n",
            "\u001b[K     |████████████████████████████████| 194kB 10.3MB/s \n",
            "\u001b[?25hCollecting pdfminer3k\n",
            "\u001b[?25l  Downloading https://files.pythonhosted.org/packages/36/15/5ac4faa314c38b335cf4db37fc02dc02c14bf67f7641bea2fa5e5b7d4ff4/pdfminer3k-1.3.4-py3-none-any.whl (100kB)\n",
            "\u001b[K     |████████████████████████████████| 102kB 7.1MB/s \n",
            "\u001b[?25hCollecting simplejson\n",
            "\u001b[?25l  Downloading https://files.pythonhosted.org/packages/73/96/1e6b19045375890068d7342cbe280dd64ae73fd90b9735b5efb8d1e044a1/simplejson-3.17.2-cp36-cp36m-manylinux2010_x86_64.whl (127kB)\n",
            "\u001b[K     |████████████████████████████████| 133kB 6.9MB/s \n",
            "\u001b[?25hRequirement already satisfied: more-itertools in /usr/local/lib/python3.6/dist-packages (from cherrypy->pattern==2.6) (8.4.0)\n",
            "Collecting zc.lockfile\n",
            "  Downloading https://files.pythonhosted.org/packages/6c/2a/268389776288f0f26c7272c70c36c96dcc0bdb88ab6216ea18e19df1fadd/zc.lockfile-2.0-py2.py3-none-any.whl\n",
            "Collecting portend>=2.1.1\n",
            "  Downloading https://files.pythonhosted.org/packages/d7/79/eee70a512bffe5ceb5008f8e3326581948f50ca393c3bcb4d557e4818bd1/portend-2.6-py2.py3-none-any.whl\n",
            "Collecting cheroot>=8.2.1\n",
            "\u001b[?25l  Downloading https://files.pythonhosted.org/packages/16/52/646b7d85952c49d7f5e294d85c93a70c14112f67ebeae3a56d67dfe4cfbe/cheroot-8.4.0-py2.py3-none-any.whl (90kB)\n",
            "\u001b[K     |████████████████████████████████| 92kB 7.3MB/s \n",
            "\u001b[?25hCollecting jaraco.collections\n",
            "  Downloading https://files.pythonhosted.org/packages/fe/06/a89652069f0a13a33701714c0c8e0cc8656bf6d21b7c6b85fde86cf06ff6/jaraco.collections-3.0.0-py2.py3-none-any.whl\n",
            "Requirement already satisfied: lxml in /usr/local/lib/python3.6/dist-packages (from docx->pattern==2.6) (4.2.6)\n",
            "Requirement already satisfied: Pillow>=2.0 in /usr/local/lib/python3.6/dist-packages (from docx->pattern==2.6) (7.0.0)\n",
            "Collecting ply\n",
            "\u001b[?25l  Downloading https://files.pythonhosted.org/packages/a3/58/35da89ee790598a0700ea49b2a66594140f44dec458c07e8e3d4979137fc/ply-3.11-py2.py3-none-any.whl (49kB)\n",
            "\u001b[K     |████████████████████████████████| 51kB 6.6MB/s \n",
            "\u001b[?25hRequirement already satisfied: setuptools in /usr/local/lib/python3.6/dist-packages (from zc.lockfile->cherrypy->pattern==2.6) (49.1.0)\n",
            "Collecting tempora>=1.8\n",
            "  Downloading https://files.pythonhosted.org/packages/b1/a3/c2bb79aa42ef7c56eec7f12a7d403b6b06b1194bf0736a93b120b5c680f2/tempora-4.0.0-py3-none-any.whl\n",
            "Collecting jaraco.functools\n",
            "  Downloading https://files.pythonhosted.org/packages/4f/2b/bbab94f3e461adaf3c7a3a25da0c67c91d8cf7a4ddae7096028601ff940f/jaraco.functools-3.0.1-py3-none-any.whl\n",
            "Requirement already satisfied: six>=1.11.0 in /usr/local/lib/python3.6/dist-packages (from cheroot>=8.2.1->cherrypy->pattern==2.6) (1.15.0)\n",
            "Collecting jaraco.classes\n",
            "  Downloading https://files.pythonhosted.org/packages/68/ce/8f43aa0d0f18120e687ae0192fe3168630040841a3e87bed93c5fe024dbe/jaraco.classes-3.1.0-py2.py3-none-any.whl\n",
            "Collecting jaraco.text\n",
            "  Downloading https://files.pythonhosted.org/packages/50/cd/6eda44738065e844bed8fae60a229b6c46f42d0ba8d48205e9fb57e254cd/jaraco.text-3.2.0-py2.py3-none-any.whl\n",
            "Requirement already satisfied: pytz in /usr/local/lib/python3.6/dist-packages (from tempora>=1.8->portend>=2.1.1->cherrypy->pattern==2.6) (2018.9)\n",
            "Collecting importlib-resources; python_version < \"3.7\"\n",
            "  Downloading https://files.pythonhosted.org/packages/ba/03/0f9595c0c2ef12590877f3c47e5f579759ce5caf817f8256d5dcbd8a1177/importlib_resources-3.0.0-py2.py3-none-any.whl\n",
            "Requirement already satisfied: zipp>=0.4; python_version < \"3.8\" in /usr/local/lib/python3.6/dist-packages (from importlib-resources; python_version < \"3.7\"->jaraco.text->jaraco.collections->cherrypy->pattern==2.6) (3.1.0)\n",
            "Building wheels for collected packages: pattern, docx, feedparser\n",
            "  Building wheel for pattern (setup.py) ... \u001b[?25l\u001b[?25hdone\n",
            "  Created wheel for pattern: filename=pattern-2.6-py2.py3-none-any.whl size=18553736 sha256=17debf868aa84705e9ba12ce31ac46f04e3622f8a1f2b1f5506a2f9d187bc057\n",
            "  Stored in directory: /tmp/pip-ephem-wheel-cache-fihf0u85/wheels/42/86/32/4c2c2365f5f4247ff44ae48bb2290f4fb024b2d2a48bf52a32\n",
            "  Building wheel for docx (setup.py) ... \u001b[?25l\u001b[?25hdone\n",
            "  Created wheel for docx: filename=docx-0.2.4-cp36-none-any.whl size=53925 sha256=c865fb1f844d06c0cfeba4f1e69cfc6767147d00d596b2329498c61f9852a964\n",
            "  Stored in directory: /root/.cache/pip/wheels/cc/8d/09/563edfd874a35c0c7ed129b6c4fa890efa4c26458bdec6ffc1\n",
            "  Building wheel for feedparser (setup.py) ... \u001b[?25l\u001b[?25hdone\n",
            "  Created wheel for feedparser: filename=feedparser-5.2.1-cp36-none-any.whl size=44940 sha256=fc4bca0936180929c26f7684dacfe06752feec4e23876411a42560a9bb8c7c2c\n",
            "  Stored in directory: /root/.cache/pip/wheels/8c/69/b7/f52763c41c5471df57703a0ef718a32a5e81ee35dcf6d4f97f\n",
            "Successfully built pattern docx feedparser\n",
            "Installing collected packages: zc.lockfile, jaraco.functools, tempora, portend, cheroot, jaraco.classes, importlib-resources, jaraco.text, jaraco.collections, cherrypy, docx, feedparser, ply, pdfminer3k, simplejson, pattern\n",
            "Successfully installed cheroot-8.4.0 cherrypy-18.6.0 docx-0.2.4 feedparser-5.2.1 importlib-resources-3.0.0 jaraco.classes-3.1.0 jaraco.collections-3.0.0 jaraco.functools-3.0.1 jaraco.text-3.2.0 pattern-2.6 pdfminer3k-1.3.4 ply-3.11 portend-2.6 simplejson-3.17.2 tempora-4.0.0 zc.lockfile-2.0\n"
          ],
          "name": "stdout"
        }
      ]
    },
    {
      "cell_type": "code",
      "metadata": {
        "id": "FH4_ZuWME4b_",
        "colab_type": "code",
        "colab": {
          "base_uri": "https://localhost:8080/",
          "height": 54
        },
        "outputId": "f29576f4-6771-4e75-e646-1d7db3ef4506"
      },
      "source": [
        "result  = lemmatize(sentence)\n",
        "print(result)"
      ],
      "execution_count": 34,
      "outputs": [
        {
          "output_type": "stream",
          "text": [
            "[b'human/NN', b'homo/JJ', b'sapiens/JJ', b'be/VB', b'highly/RB', b'intelligent/JJ', b'primate/NN', b'have/VB', b'become/VB', b'dominant/JJ', b'species/NN', b'earth/NN', b'be/VB', b'only/JJ', b'extant/JJ', b'member/NN', b'subtribe/NN', b'hominina/NN', b'together/RB', b'chimpanzee/NN', b'gorilla/NN', b'orangutan/NN', b'be/VB', b'part/NN', b'family/NN', b'hominidae/VB', b'great/JJ', b'apes/NN', b'hominid/NN', b'human/NN', b'be/VB', b'terrestrial/JJ', b'animal/NN', b'characterize/VB', b'erect/VB', b'posture/NN', b'bipedal/NN', b'locomotion/NN', b'high/JJ', b'manual/JJ', b'dexterity/NN', b'heavy/JJ', b'tool/NN', b'use/NN', b'compare/VB', b'other/JJ', b'animal/NN', b'open/JJ', b'end/VB', b'complex/JJ', b'language/NN', b'use/NN', b'compare/VB', b'other/JJ', b'animal/JJ', b'communication/NN', b'larger/JJ', b'more/RB', b'complex/JJ', b'brain/NN', b'other/JJ', b'primate/NN', b'highly/RB', b'advanced/JJ', b'organized/JJ', b'society/NN']\n"
          ],
          "name": "stdout"
        }
      ]
    },
    {
      "cell_type": "code",
      "metadata": {
        "id": "4SBXkbcDGGhx",
        "colab_type": "code",
        "colab": {
          "base_uri": "https://localhost:8080/",
          "height": 54
        },
        "outputId": "ac86a3d8-58ba-4353-bea6-981cf3cd9b78"
      },
      "source": [
        "lemmatized_out = [wd.decode('utf-8').split('/')[0] for wd in lemmatize(sentence)]\n",
        "print(lemmatized_out)"
      ],
      "execution_count": 35,
      "outputs": [
        {
          "output_type": "stream",
          "text": [
            "['human', 'homo', 'sapiens', 'be', 'highly', 'intelligent', 'primate', 'have', 'become', 'dominant', 'species', 'earth', 'be', 'only', 'extant', 'member', 'subtribe', 'hominina', 'together', 'chimpanzee', 'gorilla', 'orangutan', 'be', 'part', 'family', 'hominidae', 'great', 'apes', 'hominid', 'human', 'be', 'terrestrial', 'animal', 'characterize', 'erect', 'posture', 'bipedal', 'locomotion', 'high', 'manual', 'dexterity', 'heavy', 'tool', 'use', 'compare', 'other', 'animal', 'open', 'end', 'complex', 'language', 'use', 'compare', 'other', 'animal', 'communication', 'larger', 'more', 'complex', 'brain', 'other', 'primate', 'highly', 'advanced', 'organized', 'society']\n"
          ],
          "name": "stdout"
        }
      ]
    },
    {
      "cell_type": "markdown",
      "metadata": {
        "id": "HbxHyJEoGNev",
        "colab_type": "text"
      },
      "source": [
        "Not so good"
      ]
    },
    {
      "cell_type": "markdown",
      "metadata": {
        "id": "ofpp6_hEGYje",
        "colab_type": "text"
      },
      "source": [
        "# ***SpaCy works better I guess.***"
      ]
    }
  ]
}