{
  "nbformat": 4,
  "nbformat_minor": 0,
  "metadata": {
    "colab": {
      "name": "Text-Processing-Structure-Cricket.ipynb",
      "provenance": [],
      "collapsed_sections": [],
      "toc_visible": true
    },
    "kernelspec": {
      "name": "python3",
      "display_name": "Python 3"
    }
  },
  "cells": [
    {
      "cell_type": "markdown",
      "metadata": {
        "id": "Bz4ql93F66yU",
        "colab_type": "text"
      },
      "source": [
        "## ***Text Pre-processing Module***\n",
        "\n",
        "---\n",
        "\n"
      ]
    },
    {
      "cell_type": "code",
      "metadata": {
        "id": "EYKXPVXI62Oz",
        "colab_type": "code",
        "colab": {
          "base_uri": "https://localhost:8080/",
          "height": 204
        },
        "outputId": "948fe91b-51cb-4f10-91f9-4581b9c81b4c"
      },
      "source": [
        "import numpy as np\n",
        "import pandas as pd\n",
        "import re\n",
        "import sys\n",
        "import nltk\n",
        "import spacy\n",
        "import string\n",
        "\n",
        "# Reading the dataset\n",
        "df = pd.read_csv(\"Cricket.csv\")\n",
        "df.head()"
      ],
      "execution_count": 12,
      "outputs": [
        {
          "output_type": "execute_result",
          "data": {
            "text/html": [
              "<div>\n",
              "<style scoped>\n",
              "    .dataframe tbody tr th:only-of-type {\n",
              "        vertical-align: middle;\n",
              "    }\n",
              "\n",
              "    .dataframe tbody tr th {\n",
              "        vertical-align: top;\n",
              "    }\n",
              "\n",
              "    .dataframe thead th {\n",
              "        text-align: right;\n",
              "    }\n",
              "</style>\n",
              "<table border=\"1\" class=\"dataframe\">\n",
              "  <thead>\n",
              "    <tr style=\"text-align: right;\">\n",
              "      <th></th>\n",
              "      <th>Title</th>\n",
              "      <th>Discription</th>\n",
              "    </tr>\n",
              "  </thead>\n",
              "  <tbody>\n",
              "    <tr>\n",
              "      <th>0</th>\n",
              "      <td>Venue for Asia Cup 2020 to be decided soon</td>\n",
              "      <td>The Executive Board of the Asian Cricket Counc...</td>\n",
              "    </tr>\n",
              "    <tr>\n",
              "      <th>1</th>\n",
              "      <td>Stokes does not need extra captaincy pressure:...</td>\n",
              "      <td>Kevin Pietersen does not think Ben Stokes shou...</td>\n",
              "    </tr>\n",
              "    <tr>\n",
              "      <th>2</th>\n",
              "      <td>Archer urges victims to speak out against soci...</td>\n",
              "      <td>England fast bowler Jofra Archer has urged vic...</td>\n",
              "    </tr>\n",
              "    <tr>\n",
              "      <th>3</th>\n",
              "      <td>Using saliva won’t pose any risk once you’re i...</td>\n",
              "      <td>It seems unlikely cricket chiefs will row back...</td>\n",
              "    </tr>\n",
              "    <tr>\n",
              "      <th>4</th>\n",
              "      <td>Real-life 'Terminal': Footballer stuck at Mumb...</td>\n",
              "      <td>The Mumbai airport became home for a 23-year-o...</td>\n",
              "    </tr>\n",
              "  </tbody>\n",
              "</table>\n",
              "</div>"
            ],
            "text/plain": [
              "                                               Title                                        Discription\n",
              "0         Venue for Asia Cup 2020 to be decided soon  The Executive Board of the Asian Cricket Counc...\n",
              "1  Stokes does not need extra captaincy pressure:...  Kevin Pietersen does not think Ben Stokes shou...\n",
              "2  Archer urges victims to speak out against soci...  England fast bowler Jofra Archer has urged vic...\n",
              "3  Using saliva won’t pose any risk once you’re i...  It seems unlikely cricket chiefs will row back...\n",
              "4  Real-life 'Terminal': Footballer stuck at Mumb...  The Mumbai airport became home for a 23-year-o..."
            ]
          },
          "metadata": {
            "tags": []
          },
          "execution_count": 12
        }
      ]
    },
    {
      "cell_type": "markdown",
      "metadata": {
        "id": "6NAxxkRw8B4z",
        "colab_type": "text"
      },
      "source": [
        "# **Lower Casing**"
      ]
    },
    {
      "cell_type": "code",
      "metadata": {
        "id": "8rzVqa8g8ITF",
        "colab_type": "code",
        "colab": {
          "base_uri": "https://localhost:8080/",
          "height": 119
        },
        "outputId": "e57a3e27-294a-4b8a-c45d-93291366417d"
      },
      "source": [
        "# Lower Casing --> creating new column called text_lower\n",
        "df['Title_New']  = df['Title'].str.lower()\n",
        "df['Title_New'].head()\n",
        "\n",
        "df['Discription_New']  = df['Discription'].str.lower()\n",
        "df['Discription'].head()"
      ],
      "execution_count": 13,
      "outputs": [
        {
          "output_type": "execute_result",
          "data": {
            "text/plain": [
              "0    The Executive Board of the Asian Cricket Counc...\n",
              "1    Kevin Pietersen does not think Ben Stokes shou...\n",
              "2    England fast bowler Jofra Archer has urged vic...\n",
              "3    It seems unlikely cricket chiefs will row back...\n",
              "4    The Mumbai airport became home for a 23-year-o...\n",
              "Name: Discription, dtype: object"
            ]
          },
          "metadata": {
            "tags": []
          },
          "execution_count": 13
        }
      ]
    },
    {
      "cell_type": "markdown",
      "metadata": {
        "id": "OuHH65JV9FIu",
        "colab_type": "text"
      },
      "source": [
        "# **Removal of Punctuations**"
      ]
    },
    {
      "cell_type": "code",
      "metadata": {
        "id": "ZZlioKgg9H-w",
        "colab_type": "code",
        "colab": {
          "base_uri": "https://localhost:8080/",
          "height": 119
        },
        "outputId": "88a45a21-653e-4d73-cd4d-28abea38b03b"
      },
      "source": [
        "#removing punctuation, creating a new column called 'text_punct]'\n",
        "df['Title_New'] = df['Title_New'].str.replace('[^\\w\\s]','')\n",
        "df['Title_New'].head()\n",
        "df['Discription_New'] = df['Discription_New'].str.replace('[^\\w\\s]','')\n",
        "df['Discription_New'].head()"
      ],
      "execution_count": 14,
      "outputs": [
        {
          "output_type": "execute_result",
          "data": {
            "text/plain": [
              "0    the executive board of the asian cricket counc...\n",
              "1    kevin pietersen does not think ben stokes shou...\n",
              "2    england fast bowler jofra archer has urged vic...\n",
              "3    it seems unlikely cricket chiefs will row back...\n",
              "4    the mumbai airport became home for a 23yearold...\n",
              "Name: Discription_New, dtype: object"
            ]
          },
          "metadata": {
            "tags": []
          },
          "execution_count": 14
        }
      ]
    },
    {
      "cell_type": "markdown",
      "metadata": {
        "id": "NWn9gnMF-KVD",
        "colab_type": "text"
      },
      "source": [
        "#**Stop-word removal**"
      ]
    },
    {
      "cell_type": "code",
      "metadata": {
        "id": "FpKvF18r-V8a",
        "colab_type": "code",
        "colab": {
          "base_uri": "https://localhost:8080/",
          "height": 153
        },
        "outputId": "27389c36-f98d-43c5-eef8-37df174c1bb3"
      },
      "source": [
        "#Importing stopwords from nltk library\n",
        "nltk.download('stopwords')\n",
        "from nltk.corpus import stopwords\n",
        "STOPWORDS = set(stopwords.words('english'))\n",
        "# Function to remove the stopwords\n",
        "def stopwords(text):\n",
        "    return \" \".join([word for word in str(text).split() if word not in STOPWORDS])\n",
        "# Applying the stopwords to 'text_punct' and store into 'text_stop'\n",
        "df[\"Title_Stopwords\"] = df[\"Title_New\"].apply(stopwords)\n",
        "df[\"Title_Stopwords\"].head()\n",
        "df[\"Discription_StopWords\"] = df[\"Discription_New\"].apply(stopwords)\n",
        "df[\"Discription_StopWords\"].head()"
      ],
      "execution_count": 15,
      "outputs": [
        {
          "output_type": "stream",
          "text": [
            "[nltk_data] Downloading package stopwords to /root/nltk_data...\n",
            "[nltk_data]   Package stopwords is already up-to-date!\n"
          ],
          "name": "stdout"
        },
        {
          "output_type": "execute_result",
          "data": {
            "text/plain": [
              "0    executive board asian cricket council acc disc...\n",
              "1    kevin pietersen think ben stokes captain engla...\n",
              "2    england fast bowler jofra archer urged victims...\n",
              "3    seems unlikely cricket chiefs row back saliva ...\n",
              "4    mumbai airport became home 23yearold ghanaian ...\n",
              "Name: Discription_StopWords, dtype: object"
            ]
          },
          "metadata": {
            "tags": []
          },
          "execution_count": 15
        }
      ]
    },
    {
      "cell_type": "markdown",
      "metadata": {
        "id": "FUY4Hcs_Ewz6",
        "colab_type": "text"
      },
      "source": [
        "# **Spelling Correction**"
      ]
    },
    {
      "cell_type": "code",
      "metadata": {
        "id": "LWIgEKNVExAB",
        "colab_type": "code",
        "colab": {
          "base_uri": "https://localhost:8080/",
          "height": 493
        },
        "outputId": "c5014ab7-5731-405b-abec-40f8211f4321"
      },
      "source": [
        "from textblob import TextBlob\n",
        "df['Title_Stopwords'][:].apply(lambda x: str(TextBlob(x).correct()))\n",
        "df['Discription_StopWords'][:].apply(lambda x: str(TextBlob(x).correct()))"
      ],
      "execution_count": 17,
      "outputs": [
        {
          "output_type": "execute_result",
          "data": {
            "text/plain": [
              "0     executive board asia cricket council act discu...\n",
              "1     even peterson think ben stores captain england...\n",
              "2     england fast bowler sofa arched urged victims ...\n",
              "3     seems unlikely cricket chiefs row back saliva ...\n",
              "4     lumbar airport became home 23yearold ghanaian ...\n",
              "5     embraces cricket board confirmed expressed int...\n",
              "6     former parisian captain was arm played era int...\n",
              "7     day 1994 brian lata struck beaten 501the highe...\n",
              "8     international cricket council ice friday said ...\n",
              "9     england great geoffrey boycott announced frida...\n",
              "10    former west indies captain warren same alleged...\n",
              "11    west indies star batman chris gale expressing ...\n",
              "12    fast bowler diam plunkett left england summer ...\n",
              "13    england captain joe root said would miss first...\n",
              "14    domestic cricket england august 1 earliest eng...\n",
              "15    england play three tests home west indies july...\n",
              "16    former west indies captain warren same urged c...\n",
              "17    playing empty stadium ideal bigger challenge p...\n",
              "18    veteran batman warren bravo among three west i...\n",
              "19    crickets world body investigation three former...\n",
              "20    west indies cricket chiefs given approval test...\n",
              "21    australian cricket board projected nearly 50 p...\n",
              "22    bangladesh cricket board bob director away lea...\n",
              "23    day 1993 legendary australian legspinner share...\n",
              "24    cricket australian ca forecast near 50 plunge ...\n",
              "25    international cricket council ice discussing p...\n",
              "26    bangladesh national team players led odd skipp...\n",
              "Name: Discription_StopWords, dtype: object"
            ]
          },
          "metadata": {
            "tags": []
          },
          "execution_count": 17
        }
      ]
    },
    {
      "cell_type": "markdown",
      "metadata": {
        "id": "CBbC2ANFHpD0",
        "colab_type": "text"
      },
      "source": [
        "# **Emoji Removal**"
      ]
    },
    {
      "cell_type": "code",
      "metadata": {
        "id": "FRXAL5HmHRo3",
        "colab_type": "code",
        "colab": {}
      },
      "source": [
        "# Function to remove emoji.\n",
        "def remove_emoji(string):\n",
        "  emoji_pattern = re.compile(\"[\"\n",
        "                          u\"\\U0001F600-\\U0001F64F\"  # emoticons\n",
        "                          u\"\\U0001F300-\\U0001F5FF\"  # symbols & pictographs\n",
        "                          u\"\\U0001F680-\\U0001F6FF\"  # transport & map symbols\n",
        "                          u\"\\U0001F1E0-\\U0001F1FF\"  # flags (iOS)\n",
        "                          u\"\\U00002702-\\U000027B0\"\n",
        "                          u\"\\U000024C2-\\U0001F251\"\n",
        "                          \"]+\", flags=re.UNICODE)\n",
        "  return emoji_pattern.sub(r'', string)\n",
        "\n",
        "\n",
        "df['Title_Stopwords'] = df['Title_Stopwords'].apply(remove_emoji)\n"
      ],
      "execution_count": 18,
      "outputs": []
    }
  ]
}