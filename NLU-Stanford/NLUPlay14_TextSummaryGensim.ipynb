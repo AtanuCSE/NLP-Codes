{
  "nbformat": 4,
  "nbformat_minor": 0,
  "metadata": {
    "colab": {
      "name": "NLUPlay14_TextSummaryGensim.ipynb",
      "provenance": [],
      "toc_visible": true
    },
    "kernelspec": {
      "name": "python3",
      "display_name": "Python 3"
    },
    "accelerator": "GPU"
  },
  "cells": [
    {
      "cell_type": "markdown",
      "metadata": {
        "id": "hvBz6oH-TvlC",
        "colab_type": "text"
      },
      "source": [
        "# **Text Summerization using Gensim Library**"
      ]
    },
    {
      "cell_type": "code",
      "metadata": {
        "id": "x-XhYso4UTvL",
        "colab_type": "code",
        "colab": {
          "base_uri": "https://localhost:8080/",
          "height": 326
        },
        "outputId": "b83d2ff0-be48-4449-8e37-4270af73a1da"
      },
      "source": [
        "import pandas as pd\n",
        "!pip install gensim"
      ],
      "execution_count": 1,
      "outputs": [
        {
          "output_type": "stream",
          "text": [
            "Requirement already satisfied: gensim in /usr/local/lib/python3.6/dist-packages (3.6.0)\n",
            "Requirement already satisfied: six>=1.5.0 in /usr/local/lib/python3.6/dist-packages (from gensim) (1.15.0)\n",
            "Requirement already satisfied: smart-open>=1.2.1 in /usr/local/lib/python3.6/dist-packages (from gensim) (2.1.0)\n",
            "Requirement already satisfied: scipy>=0.18.1 in /usr/local/lib/python3.6/dist-packages (from gensim) (1.4.1)\n",
            "Requirement already satisfied: numpy>=1.11.3 in /usr/local/lib/python3.6/dist-packages (from gensim) (1.18.5)\n",
            "Requirement already satisfied: boto3 in /usr/local/lib/python3.6/dist-packages (from smart-open>=1.2.1->gensim) (1.14.22)\n",
            "Requirement already satisfied: requests in /usr/local/lib/python3.6/dist-packages (from smart-open>=1.2.1->gensim) (2.23.0)\n",
            "Requirement already satisfied: boto in /usr/local/lib/python3.6/dist-packages (from smart-open>=1.2.1->gensim) (2.49.0)\n",
            "Requirement already satisfied: botocore<1.18.0,>=1.17.22 in /usr/local/lib/python3.6/dist-packages (from boto3->smart-open>=1.2.1->gensim) (1.17.22)\n",
            "Requirement already satisfied: jmespath<1.0.0,>=0.7.1 in /usr/local/lib/python3.6/dist-packages (from boto3->smart-open>=1.2.1->gensim) (0.10.0)\n",
            "Requirement already satisfied: s3transfer<0.4.0,>=0.3.0 in /usr/local/lib/python3.6/dist-packages (from boto3->smart-open>=1.2.1->gensim) (0.3.3)\n",
            "Requirement already satisfied: chardet<4,>=3.0.2 in /usr/local/lib/python3.6/dist-packages (from requests->smart-open>=1.2.1->gensim) (3.0.4)\n",
            "Requirement already satisfied: certifi>=2017.4.17 in /usr/local/lib/python3.6/dist-packages (from requests->smart-open>=1.2.1->gensim) (2020.6.20)\n",
            "Requirement already satisfied: idna<3,>=2.5 in /usr/local/lib/python3.6/dist-packages (from requests->smart-open>=1.2.1->gensim) (2.10)\n",
            "Requirement already satisfied: urllib3!=1.25.0,!=1.25.1,<1.26,>=1.21.1 in /usr/local/lib/python3.6/dist-packages (from requests->smart-open>=1.2.1->gensim) (1.24.3)\n",
            "Requirement already satisfied: python-dateutil<3.0.0,>=2.1 in /usr/local/lib/python3.6/dist-packages (from botocore<1.18.0,>=1.17.22->boto3->smart-open>=1.2.1->gensim) (2.8.1)\n",
            "Requirement already satisfied: docutils<0.16,>=0.10 in /usr/local/lib/python3.6/dist-packages (from botocore<1.18.0,>=1.17.22->boto3->smart-open>=1.2.1->gensim) (0.15.2)\n"
          ],
          "name": "stdout"
        }
      ]
    },
    {
      "cell_type": "code",
      "metadata": {
        "id": "f6Pqozu-ThvE",
        "colab_type": "code",
        "colab": {
          "base_uri": "https://localhost:8080/",
          "height": 204
        },
        "outputId": "cf872f78-923b-4c28-eb3e-6a010932e390"
      },
      "source": [
        "df = pd.read_csv('cricket_dataset.csv')\n",
        "df.head()"
      ],
      "execution_count": 56,
      "outputs": [
        {
          "output_type": "execute_result",
          "data": {
            "text/html": [
              "<div>\n",
              "<style scoped>\n",
              "    .dataframe tbody tr th:only-of-type {\n",
              "        vertical-align: middle;\n",
              "    }\n",
              "\n",
              "    .dataframe tbody tr th {\n",
              "        vertical-align: top;\n",
              "    }\n",
              "\n",
              "    .dataframe thead th {\n",
              "        text-align: right;\n",
              "    }\n",
              "</style>\n",
              "<table border=\"1\" class=\"dataframe\">\n",
              "  <thead>\n",
              "    <tr style=\"text-align: right;\">\n",
              "      <th></th>\n",
              "      <th>Unnamed: 0</th>\n",
              "      <th>description</th>\n",
              "      <th>tags</th>\n",
              "    </tr>\n",
              "  </thead>\n",
              "  <tbody>\n",
              "    <tr>\n",
              "      <th>0</th>\n",
              "      <td>0</td>\n",
              "      <td>wankhedes notorious reputation for being a cha...</td>\n",
              "      <td>sports mumbai rahane ball bat chasing over thi...</td>\n",
              "    </tr>\n",
              "    <tr>\n",
              "      <th>1</th>\n",
              "      <td>1</td>\n",
              "      <td>pandya to rahane no run picks a short of lengt...</td>\n",
              "      <td>sports length delivery delivery leg short wris...</td>\n",
              "    </tr>\n",
              "    <tr>\n",
              "      <th>2</th>\n",
              "      <td>2</td>\n",
              "      <td>harbhajan to rahane no run pushes it quick jus...</td>\n",
              "      <td>sports shreyas gopal drifter cricket in india ...</td>\n",
              "    </tr>\n",
              "    <tr>\n",
              "      <th>3</th>\n",
              "      <td>3</td>\n",
              "      <td>shreyas gopal to pietersen leg byes one run sp...</td>\n",
              "      <td>sports cut pietersen shot off leg foot cut sho...</td>\n",
              "    </tr>\n",
              "    <tr>\n",
              "      <th>4</th>\n",
              "      <td>4</td>\n",
              "      <td>shreyas gopal to rahane no run on the stumps n...</td>\n",
              "      <td>sports foot cut ravi shaz kp pitch over off sh...</td>\n",
              "    </tr>\n",
              "  </tbody>\n",
              "</table>\n",
              "</div>"
            ],
            "text/plain": [
              "   Unnamed: 0  ...                                               tags\n",
              "0           0  ...  sports mumbai rahane ball bat chasing over thi...\n",
              "1           1  ...  sports length delivery delivery leg short wris...\n",
              "2           2  ...  sports shreyas gopal drifter cricket in india ...\n",
              "3           3  ...  sports cut pietersen shot off leg foot cut sho...\n",
              "4           4  ...  sports foot cut ravi shaz kp pitch over off sh...\n",
              "\n",
              "[5 rows x 3 columns]"
            ]
          },
          "metadata": {
            "tags": []
          },
          "execution_count": 56
        }
      ]
    },
    {
      "cell_type": "code",
      "metadata": {
        "id": "gjGvXjQFU5uc",
        "colab_type": "code",
        "colab": {}
      },
      "source": [
        "df['full_article'] = df['description'] + df['tags']\n",
        "df['full_article'] = df['tags']"
      ],
      "execution_count": 65,
      "outputs": []
    },
    {
      "cell_type": "code",
      "metadata": {
        "id": "CPt-RzhlWYLZ",
        "colab_type": "code",
        "colab": {}
      },
      "source": [
        "from pprint import pprint as print\n",
        "from gensim.summarization import summarize"
      ],
      "execution_count": 58,
      "outputs": []
    },
    {
      "cell_type": "code",
      "metadata": {
        "id": "PYWm4XuOWbmj",
        "colab_type": "code",
        "colab": {
          "base_uri": "https://localhost:8080/",
          "height": 54
        },
        "outputId": "bf9f5cd9-aea8-45b1-861c-600bc38dae2c"
      },
      "source": [
        "df = df[:200]\n",
        "df['full_article'][4]"
      ],
      "execution_count": 66,
      "outputs": [
        {
          "output_type": "execute_result",
          "data": {
            "application/vnd.google.colaboratory.intrinsic+json": {
              "type": "string"
            },
            "text/plain": [
              "'sports foot cut ravi shaz kp pitch over off short front foot pull fifty chopping line back jumps pulls one length backward'"
            ]
          },
          "metadata": {
            "tags": []
          },
          "execution_count": 66
        }
      ]
    },
    {
      "cell_type": "code",
      "metadata": {
        "id": "Vz2crKsUXs6B",
        "colab_type": "code",
        "colab": {
          "base_uri": "https://localhost:8080/",
          "height": 102
        },
        "outputId": "0ade1f1d-d46c-4bb5-8517-b9efb17e7b23"
      },
      "source": [
        "s = \"\"\n",
        "for i in range(0,len(df)):\n",
        "  s = s+ \" \" + str(df['full_article'][i])\n",
        "print(s[:300])\n"
      ],
      "execution_count": 72,
      "outputs": [
        {
          "output_type": "stream",
          "text": [
            "(' sports mumbai rahane ball bat chasing over third man length delivery '\n",
            " 'delivery man first third back jumps length decision sports length delivery '\n",
            " 'delivery leg short wrists stop mid-wicket single right-arm front foot '\n",
            " 'tossing fires flat middle catches thick inside edge square leg mid-wicket '\n",
            " 'edge knee s')\n"
          ],
          "name": "stdout"
        }
      ]
    },
    {
      "cell_type": "code",
      "metadata": {
        "id": "S2NDIii2WGne",
        "colab_type": "code",
        "colab": {
          "base_uri": "https://localhost:8080/",
          "height": 1000
        },
        "outputId": "382bb6f5-6f50-4e8c-9e6b-22774b0b8c3a"
      },
      "source": [
        "print(summarize(s, word_count=500))"
      ],
      "execution_count": 82,
      "outputs": [
        {
          "output_type": "stream",
          "text": [
            "('disappointing winning back end batsmen start length best teams play night '\n",
            " 'sports kkr cricket crease cricket equipment gautam gambhir delivery kohlberg '\n",
            " 'kravis roberts runs length delivery delivery short mid-wicket crease cover '\n",
            " 'mid-wicket drive wide timing deep mid-wicket well-deserved victory crack '\n",
            " 'crease deep extra back drive two length sports kkr cricket gautam gambhir '\n",
            " 'punjabi people nile third man short point edge shoulder half-hearted '\n",
            " 'thickish line man third punch one good called sports fielder cricket gautam '\n",
            " 'gambhir punjabi people morris motors fielding ball bat over delivery off '\n",
            " 'short middle straight splice shuffles man hits one hits backward sports '\n",
            " 'fielder cricket gautam gambhir batting bowling delivery ball length delivery '\n",
            " 'delivery short fires throw bounce bounce direct-hit mid-on round back length '\n",
            " 'sports stroke cricket gautam gambhir punjabi people nile bangs shot length '\n",
            " 'delivery delivery stroke short wrists drifting smash turns square mid-on '\n",
            " 'deep played pulls position good length behind play sports square leg10.5c '\n",
            " 'morris 2.0-0-13-0 fielder cricket gautam gambhir punjabi people wicket '\n",
            " 'indian premier league delivery leg short square leg straight pull call '\n",
            " 'square deep back hands quick sports fielder cricket gautam gambhir punjabi '\n",
            " 'people fielding morris length delivery delivery leg short square leg square '\n",
            " 'deep back good length trap feet backward air sports cricket kodava people '\n",
            " 'robin uthappa manish pandey bat delivery off front foot straight catch '\n",
            " 'tossed drive lofted drive wide defends caught catch pad shoulder leg-spinner '\n",
            " 'defence drift inside-out man covers textbook timed drive hands sports '\n",
            " 'uthappa square leg9.1mishra morris b mishra cricket kodava people robin '\n",
            " 'uthappa third man front straight edge googly knee square man third one '\n",
            " 'attempted sports gambhir kkr square leg8.4 fielder cricket kodava people '\n",
            " 'robin uthappa gautam gambhir marillier shot indian premier league bowling '\n",
            " 'shot runs length delivery delivery mid-wicket mid-wicket drifting timing '\n",
            " 'flicks time-out series flick square deep back bowling good length air '\n",
            " 'playing sports sweeper cricket kodava people robin uthappa gautam gambhir '\n",
            " 'slog beamer no ball bowled ball length delivery delivery off short point '\n",
            " 'sweeper beaten glove shoulder misses slog beamer slips hit back hit good '\n",
            " 'length sports cricket kodava people robin uthappa gautam gambhir ball length '\n",
            " 'delivery delivery point drive mistimes misfields results straighter-one '\n",
            " 'skidded kock back drive turn two length sports fielder at gully cricket '\n",
            " 'kodava people robin uthappa gautam gambhir over delivery leg right-arm '\n",
            " 'straight drives flighted dives keeper square back drives one backward sports '\n",
            " 'cricket gautam gambhir punjabi people robin uthappa ball pitch bat length '\n",
            " 'delivery delivery off front foot drive square back drive length feet '\n",
            " 'backward sports fielder cricket kodava people robin uthappa fast right-arm '\n",
            " 'straight drive keeping half-volley timed drive one sports cricket kodava '\n",
            " 'people robin uthappa zaheer ball length delivery delivery off front punched '\n",
            " 'cover straight half-volley strikers passed boot defended danger turf back '\n",
            " 'end quick one good length backward sports cricket kodava people robin '\n",
            " 'uthappa gautam gambhir crease dismissal delivery wicket length delivery '\n",
            " 'delivery short single middle crease defends skills crease square defended '\n",
            " 'hit back hit close one side length backward sports captain guard cricket '\n",
            " 'kodava people robin uthappa off stop drives bounce strike bounce bouncer '\n",
            " 'back drives length called captain fingers sports cricket kodava people robin '\n",
            " 'uthappa length delivery delivery off short front middle defends dives slip '\n",
            " 'flicks square back good length sports cricket kodava people robin uthappa '\n",
            " 'carbon copy fast runs over third man off right-arm cover edge bounce drive '\n",
            " 'wide slip bounce half-volley edged struggling run-fest gap man extra third '\n",
            " 'drive played good previous steals sports delhi cricket gautam gambhir '\n",
            " 'punjabi people robin uthappa ball off leg short fine leg mid-off pitched '\n",
            " 'flick tuck man hit hit one length toe sports kkr captain fielder cricket '\n",
            " 'gautam gambhir punjabi people length delivery delivery off straight four '\n",
            " 'half-volley flick square deep third turf timed start length backward sports '\n",
            " 'ipl player fielder cricket gautam gambhir punjabi people robin uthappa ball '\n",
            " 'fast runs delivery off leg wrists square leg deep square leg pace slip '\n",
            " 'fielded left-arm square couple deep hand tally played one completed called '\n",
            " 'player sports cricket kodava people robin uthappa nile cricket pitch length '\n",
            " 'delivery delivery leg front foot middle square leg deep square leg drives '\n",
            " 'swing dives slip half-volley pacy square deep hard back drives one good '\n",
            " 'length sports delhi ipl waqar younis cricket kodava people robin uthappa '\n",
            " 'indian premier league ball pitch bat total straightens defended first one '\n",
            " 'full sports running back at cover the legend of korra zaheer fiction crime '\n",
            " 'ball pitch over off catch running edge spin caught catch slog loops room '\n",
            " 'second arms back previous half sports the legend of korra zaheer fiction '\n",
            " 'crime ball bat over leg short square leg pull defensive slices slipped fell '\n",
            " 'sliding flights square back high hits one length hits attempted play sports '\n",
            " 'fiction the legend of korra zaheer hogg nile ball foot straight edge grips '\n",
            " 'turns beats tentative turning ground hit back turn hit length full sports '\n",
            " 'delhi cricket bowling googly zaheer gautam gambhir slip off edge wide '\n",
            " 'flighted spin googly dives slip caught slips turns forward second two one '\n",
            " 'bowling length sports stroke cut bowling leg break off middle crease edge '\n",
            " 'chop turns shapes reverse toe-ends crease back under-edge stopped full '\n",
            " 'sports delhi bowling nile batting leg break coulter bodies of water '\n",
            " 'geography of africa water off middle late-cut slides picked forward turning '\n",
            " 'batsmen turn length backward air sports fielder sports cricket teams nile '\n",
            " 'dismissal googly crease coulter ball pitch shot front foot drives turns '\n",
            " 'slides paddle struck skips deep struck close drives one sports cricket '\n",
            " 'kodava people robin uthappa drives drive caught half-hearted straighter-one '\n",
            " 'half-volley falling walk pavilion back batsmen drive drives one backward '\n",
            " 'play sports samson c uthappa cricket bowling nathan coulter-nile googly '\n",
            " 'coulter robin uthappa nile ball catch googly catch pad defend hits good hits '\n",
            " 'sports other morris b chawla the invincibles morris googly ball over '\n",
            " 'delivery cover drives drive googly pad middle-stump leg-side deep leg-side '\n",
            " 'forward extra hit back drive played hit drives one full sports square '\n",
            " 'leg11.4b hogg cricket kodava people robin uthappa e.')\n"
          ],
          "name": "stdout"
        }
      ]
    },
    {
      "cell_type": "code",
      "metadata": {
        "id": "BD0dN2KzbJH8",
        "colab_type": "code",
        "colab": {
          "base_uri": "https://localhost:8080/",
          "height": 340
        },
        "outputId": "6af98b98-6910-4d17-c432-7efea4e3d86b"
      },
      "source": [
        "from gensim.summarization import keywords\n",
        "print(keywords(s, lemmatize=True, words=20, deacc=True))"
      ],
      "execution_count": 62,
      "outputs": [
        {
          "output_type": "stream",
          "text": [
            "('running\\n'\n",
            " 'balls\\n'\n",
            " 'sharmas\\n'\n",
            " 'crickets\\n'\n",
            " 'lengths\\n'\n",
            " 'squares\\n'\n",
            " 'russells\\n'\n",
            " 'deep\\n'\n",
            " 'sport\\n'\n",
            " 'yadavs\\n'\n",
            " 'bowls\\n'\n",
            " 'driving\\n'\n",
            " 'backwards\\n'\n",
            " 'batted\\n'\n",
            " 'morri\\n'\n",
            " 'wided\\n'\n",
            " 'hitting\\n'\n",
            " 'short\\n'\n",
            " 'deliveries')\n"
          ],
          "name": "stdout"
        }
      ]
    }
  ]
}